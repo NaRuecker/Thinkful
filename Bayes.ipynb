{
 "cells": [
  {
   "cell_type": "markdown",
   "metadata": {},
   "source": [
    "A diagnostic test has a 98% probability of giving a positive result when applied to a person suffering from Thripshaw's Disease, and 10% probability of giving a (false) positive when applied to a non-sufferer. It is estimated that 0.5 % of the population are sufferers. Suppose that the test is now administered to a person whose disease status is unknown. Calculate the probability that the test will:\n",
    "\n",
    "1.Be positive\n",
    "2.Correctly diagnose a sufferer of Thripshaw's\n",
    "3.Correctly identify a non-sufferer of Thripshaw's\n",
    "4.Misclassify the person"
   ]
  },
  {
   "cell_type": "code",
   "execution_count": 7,
   "metadata": {
    "collapsed": true
   },
   "outputs": [],
   "source": [
    "PSick=0.005\n",
    "PNotSick=0.995\n",
    "\n",
    "PTestTruePos=0.98\n",
    "PTestFalsePos=0.1\n",
    "\n",
    "PTestTrueNeg=0.9\n",
    "PTestFalseNeg=0.02"
   ]
  },
  {
   "cell_type": "code",
   "execution_count": 10,
   "metadata": {
    "collapsed": false
   },
   "outputs": [
    {
     "data": {
      "text/plain": [
       "0.1044"
      ]
     },
     "execution_count": 10,
     "metadata": {},
     "output_type": "execute_result"
    }
   ],
   "source": [
    "#1.Be positive\n",
    "Ppos= PSick*PTestTruePos + PNotSick*PTestFalsePos\n",
    "Ppos"
   ]
  },
  {
   "cell_type": "code",
   "execution_count": 15,
   "metadata": {
    "collapsed": false
   },
   "outputs": [
    {
     "data": {
      "text/plain": [
       "0.98"
      ]
     },
     "execution_count": 15,
     "metadata": {},
     "output_type": "execute_result"
    }
   ],
   "source": [
    "#2.Correctly diagnose a sufferer of Thripshaw's\n",
    "PSickTestPos1=PSick*PTestTruePos/(PSick*PTestTruePos + PSick *PTestFalseNeg)\n",
    "PSickTestPos1"
   ]
  },
  {
   "cell_type": "code",
   "execution_count": 16,
   "metadata": {
    "collapsed": false
   },
   "outputs": [
    {
     "data": {
      "text/plain": [
       "0.8999999999999999"
      ]
     },
     "execution_count": 16,
     "metadata": {},
     "output_type": "execute_result"
    }
   ],
   "source": [
    "#3.Correctly diagnose a non-sufferer of Thripshaw's\n",
    "PNotSickTestNeg=PNotSick*PTestTrueNeg/(PNotSick*PTestTrueNeg + PNotSick *PTestFalsePos)\n",
    "PNotSickTestNeg"
   ]
  },
  {
   "cell_type": "code",
   "execution_count": 17,
   "metadata": {
    "collapsed": false
   },
   "outputs": [
    {
     "data": {
      "text/plain": [
       "0.09960000000000001"
      ]
     },
     "execution_count": 17,
     "metadata": {},
     "output_type": "execute_result"
    }
   ],
   "source": [
    "#4.Misclassify the person\n",
    "PMissclassify= (PSick*PTestFalseNeg +PNotSick *PTestFalsePos)/(PSick*PTestFalseNeg +PNotSick *PTestFalsePos +PSick*PTestTruePos +PNotSick *PTestTrueNeg)\n",
    "PMissclassify"
   ]
  }
 ],
 "metadata": {
  "anaconda-cloud": {},
  "kernelspec": {
   "display_name": "Python 3",
   "language": "python",
   "name": "python3"
  },
  "language_info": {
   "codemirror_mode": {
    "name": "ipython",
    "version": 3
   },
   "file_extension": ".py",
   "mimetype": "text/x-python",
   "name": "python",
   "nbconvert_exporter": "python",
   "pygments_lexer": "ipython3",
   "version": "3.5.2"
  }
 },
 "nbformat": 4,
 "nbformat_minor": 1
}
