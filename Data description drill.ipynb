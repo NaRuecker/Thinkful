{
 "cells": [
  {
   "cell_type": "markdown",
   "metadata": {},
   "source": [
    "1. \n",
    "Greg was 14, Marcia was 12, Peter was 11, Jan was 10, Bobby was 8, and Cindy was 6 when they started playing the Brady kids on The Brady Bunch. Cousin Oliver was 8 years old when he joined the show. What are the mean, median, and mode of the kids' ages when they first appeared on the show? \n",
    "\n",
    "sum(14,12,11,10,8,6,8)=69\n",
    "len(14,12,11,10,8,6,8)=7\n",
    "\n",
    "mean= 69/7=9.8\n",
    "median(14,12,11,10,8,8,6)= 10\n",
    "mode(14,12,11,10,8,8,6)=8\n",
    "\n",
    "What are the variance, standard deviation, and standard error?\n",
    "\n",
    "v = sum((x - mean) ** 2) / n\n",
    "\n",
    "14-9.8=4.2\n",
    "12-9.8=2.2\n",
    "11-9.8=1.2\n",
    "10-9.8=0.2\n",
    "8-9.8=-1.8\n",
    "8-9.8=-1.8\n",
    "6-9.8=-3.8\n",
    "\n",
    "4.2**2=17.64\n",
    "2.2**2=4.84\n",
    "1.2**2=1.44\n",
    "0.2**2=0.04\n",
    "-1.8**2=3.24\n",
    "-1.8**2=3.24\n",
    "-3.8**2=14.44\n",
    "\n",
    "SUM(17.64, 4.34, 1.44, 0.04, 3.24, 3.24, 14.44)=44.38\n",
    "\n",
    "44.38/7= 6.34\n",
    "\n",
    "variance= 6.34\n",
    "\n",
    "standard deviation = variance **0.5\n",
    "\n",
    "std= 6.34^0.5= 2.51793\n",
    "\n",
    "sandarderror = s / (n ** 0.5)\n",
    "\n",
    "se= 2.51793/(7^0.5) = 0.9516"
   ]
  },
  {
   "cell_type": "code",
   "execution_count": 6,
   "metadata": {
    "collapsed": true
   },
   "outputs": [],
   "source": [
    "import pandas as pd\n",
    "import numpy as np\n",
    "import matplotlib.pyplot as plt\n",
    "import statistics\n",
    "%matplotlib inline"
   ]
  },
  {
   "cell_type": "code",
   "execution_count": 7,
   "metadata": {
    "collapsed": false
   },
   "outputs": [
    {
     "name": "stdout",
     "output_type": "stream",
     "text": [
      "sum = 69\n",
      "n = 7\n",
      "mean = 9.857142857142858\n",
      "median = 10.0\n",
      "mode = 8\n",
      "var = 6.408163547515869\n",
      "standard deviation = 2.531435012817383\n",
      "standard error = 1.03345398208\n"
     ]
    }
   ],
   "source": [
    "df = pd.DataFrame()\n",
    "df['age']=(14,12,11,10,8,6,8)\n",
    "print(\"sum =\",sum(df['age']))\n",
    "print(\"n =\",len(df['age']))\n",
    "\n",
    "\n",
    "print(\"mean =\",np.mean(df['age']))\n",
    "print(\"median =\",np.median(df['age']))\n",
    "print(\"mode =\", statistics.mode(df['age']))\n",
    "\n",
    "print(\"var =\",np.var(df.age))\n",
    "print(\"standard deviation =\", np.std(df['age']))\n",
    "print(\"standard error =\", np.std(df['age'] ,ddof=1) / np.sqrt(len(df['age'])))"
   ]
  },
  {
   "cell_type": "markdown",
   "metadata": {},
   "source": [
    "2.\n",
    "Using these estimates, if you had to choose only one estimate of central tendency and one estimate of variance to describe the data, which would you pick and why?"
   ]
  },
  {
   "cell_type": "markdown",
   "metadata": {},
   "source": [
    "Answer:\n",
    "a) I would have chosen an the mean as estimate of central tendency. I did see the distribution of the data , so I knew there are no outlayers, so the median is unnessary.\n",
    "b)I would have chosen the standard deviation, because it reflects on the heterogeneity the observed data. When using the standard error, the population has a much bigger impact."
   ]
  },
  {
   "cell_type": "markdown",
   "metadata": {},
   "source": [
    "3.\n",
    "Next, Cindy has a birthday. Update your estimates- what changed, and what didn't?\n",
    "Answer:\n",
    "Except for median and mode all values will change."
   ]
  },
  {
   "cell_type": "code",
   "execution_count": 8,
   "metadata": {
    "collapsed": false
   },
   "outputs": [
    {
     "name": "stdout",
     "output_type": "stream",
     "text": [
      "sum = 70\n",
      "n = 7\n",
      "mean = 10.0\n",
      "median = 10.0\n",
      "mode = 8\n",
      "var = 5.4285712242126465\n",
      "standard deviation = 2.3299293518066406\n",
      "standard error = 0.951189768122\n"
     ]
    }
   ],
   "source": [
    "df = pd.DataFrame()\n",
    "df['age']=(14,12,11,10,8,7,8)\n",
    "print(\"sum =\",sum(df['age']))\n",
    "print(\"n =\",len(df['age']))\n",
    "\n",
    "print(\"mean =\",np.mean(df['age']))\n",
    "print(\"median =\",np.median(df['age']))\n",
    "print(\"mode =\", statistics.mode(df['age']))\n",
    "\n",
    "print(\"var =\",np.var(df.age))\n",
    "print(\"standard deviation =\", np.std(df['age']))\n",
    "print(\"standard error =\", np.std(df['age'] ,ddof=1) / np.sqrt(len(df['age'])))"
   ]
  },
  {
   "cell_type": "markdown",
   "metadata": {},
   "source": [
    "4.\n",
    "Nobody likes Cousin Oliver. Maybe the network should have used an even younger actor. Replace Cousin Oliver with 1-year-old Jessica, then recalculate again. Does this change your choice of central tendency or variance estimation methods?"
   ]
  },
  {
   "cell_type": "markdown",
   "metadata": {},
   "source": [
    "Answer:\n",
    "This does change the results again. Using mode, does not make any sense anymore, because each value will occure an equal number of times. But all other methods are still fine to use."
   ]
  },
  {
   "cell_type": "code",
   "execution_count": 10,
   "metadata": {
    "collapsed": false
   },
   "outputs": [
    {
     "name": "stdout",
     "output_type": "stream",
     "text": [
      "sum = 62\n",
      "n = 7\n",
      "mean = 8.857142857142858\n",
      "median = 10.0\n",
      "var = 16.122447967529297\n",
      "standard deviation = 4.015276908874512\n",
      "standard error = 1.63922989657\n"
     ]
    }
   ],
   "source": [
    "df = pd.DataFrame()\n",
    "df['age']=(14,12,11,10,8,6,1)\n",
    "print(\"sum =\",sum(df['age']))\n",
    "print(\"n =\",len(df['age']))\n",
    "\n",
    "print(\"mean =\",np.mean(df['age']))\n",
    "print(\"median =\",np.median(df['age']))\n",
    "#print(\"mode =\", statistics.mode(df['age'])) # returns stats error, because all value occure an equal number of times\n",
    "\n",
    "print(\"var =\",np.var(df.age))\n",
    "print(\"standard deviation =\", np.std(df['age']))\n",
    "print(\"standard error =\", np.std(df['age'] ,ddof=1) / np.sqrt(len(df['age'])))"
   ]
  },
  {
   "cell_type": "markdown",
   "metadata": {},
   "source": [
    "5.\n",
    "On the 50th anniversary of The Brady Bunch, four different magazines asked their readers whether they were fans of the show. The answers were: TV Guide 20% fans Entertainment Weekly 23% fans Pop Culture Today 17% fans SciPhi Phanatic 5% fans\n",
    "\n",
    "Based on these numbers, what percentage of adult Americans would you estimate were Brady Bunch fans on the 50th anniversary of the show?"
   ]
  },
  {
   "cell_type": "code",
   "execution_count": 13,
   "metadata": {
    "collapsed": false
   },
   "outputs": [
    {
     "data": {
      "text/plain": [
       "0.16250000000000003"
      ]
     },
     "execution_count": 13,
     "metadata": {},
     "output_type": "execute_result"
    }
   ],
   "source": [
    "df = pd.DataFrame()\n",
    "df['fans']= (0.20,0.23,0.17,0.05)\n",
    "\n",
    "np.mean(df['fans'])"
   ]
  },
  {
   "cell_type": "markdown",
   "metadata": {},
   "source": [
    "Answer:\n",
    "The avarage amount of readers of those magazines who liked The Brady Bunch is 16%."
   ]
  }
 ],
 "metadata": {
  "anaconda-cloud": {},
  "kernelspec": {
   "display_name": "Python 3",
   "language": "python",
   "name": "python3"
  },
  "language_info": {
   "codemirror_mode": {
    "name": "ipython",
    "version": 3
   },
   "file_extension": ".py",
   "mimetype": "text/x-python",
   "name": "python",
   "nbconvert_exporter": "python",
   "pygments_lexer": "ipython3",
   "version": "3.5.2"
  }
 },
 "nbformat": 4,
 "nbformat_minor": 1
}
